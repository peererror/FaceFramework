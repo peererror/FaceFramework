{
 "cells": [
  {
   "cell_type": "code",
   "execution_count": 1,
   "metadata": {},
   "outputs": [
    {
     "name": "stdout",
     "output_type": "stream",
     "text": [
      "Imported Python modules.\n",
      "Imported Python modules.\n",
      "INFO: All network layers are supported.\n",
      "Input Shape: [1, 3, 300, 300]\n",
      "Output Shape: [1, 1, 200, 7]\n",
      "INFO: All network layers are supported.\n",
      "Input Shape: [1, 3, 60, 60]\n",
      "Output Shape: [1, 1]*3 for (Y,P,R)\n",
      "INFO: All network layers are supported.\n",
      "Input Shape: [1, 3, 60, 60]\n",
      "Output Shape: [1, 70]\n"
     ]
    }
   ],
   "source": [
    "import numpy as np\n",
    "import urllib\n",
    "import json\n",
    "import cv2\n",
    "import os\n",
    "\n",
    "from collections import deque\n",
    "from collections import Counter\n",
    "import imutils\n",
    "import uuid\n",
    "from FaceDetectionModule import Face_Detector\n",
    "from FaceGazeModule import GazeEstimator\n",
    "\n",
    "from FaceLandmarksModule import Landmark_Extractor\n",
    "\n",
    "import glob\n",
    "  \n",
    "    \n",
    "maxQueueLen = 20\n",
    "developer_mode = True\n",
    "device = \"CPU\"\n",
    "cpu_extension_path = \"cpu_extension_avx2.dll\"\n",
    "detect_thresh = 0.7\n",
    "min_rect_area = 40000\n",
    "turn_angle_thresh = 15\n",
    "\n",
    "\n",
    "model_xml = r\"Models/openvino/face-detection/FP32/face-detection-retail-0004.xml\"\n",
    "model_bin = r\"Models/openvino/face-detection/FP32/face-detection-retail-0004.bin\"\n",
    "\n",
    "plugin = Face_Detector.init_plugin(device,cpu_extension_path)\n",
    "faceDetector = Face_Detector()\n",
    "faceDetector.load_net(model_xml,model_bin,plugin)\n",
    "\n",
    "\n",
    "model_xml = r\"Models/openvino/gaze-estimation/FP32/head-pose-estimation-adas-0001.xml\"\n",
    "model_bin =r\"Models/openvino/gaze-estimation/FP32/head-pose-estimation-adas-0001.bin\"\n",
    "gazeEstimator = GazeEstimator()\n",
    "gazeEstimator.load_net(model_xml,model_bin,plugin)\n",
    "\n",
    "\n",
    "model_xml = r\"Models/openvino/face-landmarks/FP32/facial-landmarks-35-adas-0002.xml\"\n",
    "model_bin = r\"Models/openvino/face-landmarks/FP32/facial-landmarks-35-adas-0002.bin\"\n",
    "landmarkEstimator = Landmark_Extractor()\n",
    "landmarkEstimator.load_net(model_xml,model_bin,plugin)"
   ]
  },
  {
   "cell_type": "code",
   "execution_count": 5,
   "metadata": {},
   "outputs": [
    {
     "name": "stdout",
     "output_type": "stream",
     "text": [
      "Faces detected\n",
      "Face extracted\n",
      "60 60\n"
     ]
    }
   ],
   "source": [
    "img = cv2.imread(r\"C:\\Users\\ADNEC- VW 3\\Pictures\\Sample Pics\\5-woman3.jpg\")\n",
    "\n",
    "rects,_ = faceDetector.detectFaces(img,detect_thresh)\n",
    "\n",
    "for i,(startX, startY, endX, endY) in enumerate(rects):\n",
    "    print(\"Faces detected\")\n",
    "    face = img[startY:endY, startX:endX]\n",
    "\n",
    "    if face is None or len(face) == 0:\n",
    "        continue\n",
    "    print(\"Face extracted\")\n",
    "    \n",
    "    landmarks = landmarkEstimator.extractLandmarks(face)\n",
    "    for (x,y) in landmarks:\n",
    "        x = int(x  * face.shape[1])\n",
    "        y = int(y * face.shape[0])\n",
    "        \n",
    "        cv2.circle(face,(x,y),5,(0,255,255),-1)\n",
    "        \n",
    "cv2.imshow(\"Image\",face)\n",
    "cv2.waitKey(0)\n",
    "cv2.destroyAllWindows()"
   ]
  },
  {
   "cell_type": "code",
   "execution_count": null,
   "metadata": {},
   "outputs": [],
   "source": []
  }
 ],
 "metadata": {
  "kernelspec": {
   "display_name": "Python 3",
   "language": "python",
   "name": "python3"
  },
  "language_info": {
   "codemirror_mode": {
    "name": "ipython",
    "version": 3
   },
   "file_extension": ".py",
   "mimetype": "text/x-python",
   "name": "python",
   "nbconvert_exporter": "python",
   "pygments_lexer": "ipython3",
   "version": "3.7.1"
  }
 },
 "nbformat": 4,
 "nbformat_minor": 2
}

{
 "cells": [
  {
   "cell_type": "code",
   "execution_count": 1,
   "metadata": {},
   "outputs": [
    {
     "name": "stdout",
     "output_type": "stream",
     "text": [
      "Imported Python modules.\n",
      "Imported Python modules.\n",
      "INFO: All network layers are supported.\n",
      "Input Shape: [1, 3, 300, 300]\n",
      "Output Shape: [1, 1, 200, 7]\n",
      "INFO: All network layers are supported.\n",
      "Input Shape: [1, 3, 60, 60]\n",
      "Output Shape: [1, 1]*3 for (Y,P,R)\n",
      "INFO: All network layers are supported.\n",
      "Input Shape: [1, 3, 60, 60]\n",
      "Output Shape: [1, 70]\n"
     ]
    }
   ],
   "source": [
    "import numpy as np\n",
    "import urllib\n",
    "import json\n",
    "import cv2\n",
    "import os\n",
    "\n",
    "from collections import deque\n",
    "from collections import Counter\n",
    "import imutils\n",
    "import uuid\n",
    "from FaceDetectionModule import Face_Detector\n",
    "from FaceGazeModule import GazeEstimator\n",
    "\n",
    "from FaceLandmarksModule import Landmark_Extractor\n",
    "\n",
    "import glob\n",
    "import imutils\n",
    "    \n",
    "maxQueueLen = 20\n",
    "developer_mode = True\n",
    "device = \"CPU\"\n",
    "cpu_extension_path = \"cpu_extension_avx2.dll\"\n",
    "detect_thresh = 0.7\n",
    "min_rect_area = 40000\n",
    "turn_angle_thresh = 15\n",
    "\n",
    "\n",
    "model_xml = r\"Models/openvino/face-detection/FP32/face-detection-retail-0004.xml\"\n",
    "model_bin = r\"Models/openvino/face-detection/FP32/face-detection-retail-0004.bin\"\n",
    "\n",
    "plugin = Face_Detector.init_plugin(device,cpu_extension_path)\n",
    "faceDetector = Face_Detector()\n",
    "faceDetector.load_net(model_xml,model_bin,plugin)\n",
    "\n",
    "\n",
    "model_xml = r\"Models/openvino/gaze-estimation/FP32/head-pose-estimation-adas-0001.xml\"\n",
    "model_bin =r\"Models/openvino/gaze-estimation/FP32/head-pose-estimation-adas-0001.bin\"\n",
    "gazeEstimator = GazeEstimator()\n",
    "gazeEstimator.load_net(model_xml,model_bin,plugin)\n",
    "\n",
    "\n",
    "model_xml = r\"Models/openvino/face-landmarks/FP32/facial-landmarks-35-adas-0002.xml\"\n",
    "model_bin = r\"Models/openvino/face-landmarks/FP32/facial-landmarks-35-adas-0002.bin\"\n",
    "landmarkEstimator = Landmark_Extractor()\n",
    "landmarkEstimator.load_net(model_xml,model_bin,plugin)"
   ]
  },
  {
   "cell_type": "code",
   "execution_count": 7,
   "metadata": {},
   "outputs": [
    {
     "name": "stdout",
     "output_type": "stream",
     "text": [
      "Faces detected\n",
      "Face extracted\n",
      "{'align_fc3': array([[0.4569998 , 0.39950517, 0.30347228, 0.38724712, 0.6663683 ,\n",
      "        0.39652318, 0.80440116, 0.37929523, 0.59642494, 0.60513127,\n",
      "        0.58460623, 0.64309615, 0.4649956 , 0.6033314 , 0.68192303,\n",
      "        0.5927795 , 0.44184417, 0.71459526, 0.68617904, 0.70718616,\n",
      "        0.58304566, 0.7002003 , 0.5776392 , 0.7912627 , 0.22965461,\n",
      "        0.29419318, 0.3560988 , 0.24974515, 0.48735994, 0.29642716,\n",
      "        0.65861136, 0.29770398, 0.770264  , 0.24814226, 0.86191857,\n",
      "        0.27966183, 0.1260614 , 0.34978878, 0.14152077, 0.45102492,\n",
      "        0.16851534, 0.5448582 , 0.20826302, 0.63181305, 0.26616287,\n",
      "        0.70675784, 0.32949275, 0.7602153 , 0.39746627, 0.80828017,\n",
      "        0.47183555, 0.85259926, 0.568715  , 0.86783946, 0.6492295 ,\n",
      "        0.83729845, 0.70318294, 0.78354686, 0.7522352 , 0.7280035 ,\n",
      "        0.7963618 , 0.66742074, 0.83433324, 0.5984572 , 0.8600152 ,\n",
      "        0.5218183 , 0.87567407, 0.44072232, 0.886628  , 0.3497314 ]],\n",
      "      dtype=float32)}\n"
     ]
    }
   ],
   "source": [
    "img = cv2.imread(r\"C:\\Users\\ADNEC- VW 3\\Pictures\\Sample Pics\\m1.jpg\")\n",
    "img = imutils.resize(img,width = 1000)\n",
    "rects,_ = faceDetector.detectFaces(img,detect_thresh)\n",
    "\n",
    "for i,(startX, startY, endX, endY) in enumerate(rects):\n",
    "    print(\"Faces detected\")\n",
    "    face = img[startY:endY, startX:endX]\n",
    "\n",
    "    if face is None or len(face) == 0:\n",
    "        continue\n",
    "    print(\"Face extracted\")\n",
    "    \n",
    "    landmarks = landmarkEstimator.extractLandmarks(face)\n",
    "    for (x,y) in landmarks:\n",
    "        x = int(x  * face.shape[1])\n",
    "        y = int(y * face.shape[0])\n",
    "        \n",
    "        cv2.circle(face,(x,y),5,(0,255,255),-1)\n",
    "        \n",
    "cv2.imshow(\"Image\",face)\n",
    "cv2.waitKey(0)\n",
    "cv2.destroyAllWindows()"
   ]
  },
  {
   "cell_type": "code",
   "execution_count": null,
   "metadata": {},
   "outputs": [],
   "source": []
  }
 ],
 "metadata": {
  "kernelspec": {
   "display_name": "Python 3",
   "language": "python",
   "name": "python3"
  },
  "language_info": {
   "codemirror_mode": {
    "name": "ipython",
    "version": 3
   },
   "file_extension": ".py",
   "mimetype": "text/x-python",
   "name": "python",
   "nbconvert_exporter": "python",
   "pygments_lexer": "ipython3",
   "version": "3.7.1"
  }
 },
 "nbformat": 4,
 "nbformat_minor": 2
}

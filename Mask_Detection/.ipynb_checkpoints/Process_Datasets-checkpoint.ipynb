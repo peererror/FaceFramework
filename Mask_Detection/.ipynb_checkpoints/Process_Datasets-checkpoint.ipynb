{
 "cells": [
  {
   "cell_type": "code",
   "execution_count": 8,
   "metadata": {},
   "outputs": [
    {
     "name": "stdout",
     "output_type": "stream",
     "text": [
      "INFO: All network layers are supported.\n",
      "Input Shape: [1, 3, 300, 300]\n",
      "Output Shape: [1, 1, 200, 7]\n"
     ]
    }
   ],
   "source": [
    "import numpy as np\n",
    "import urllib\n",
    "import json\n",
    "import cv2\n",
    "import os\n",
    "import imageio\n",
    "import imgaug as ia\n",
    "from collections import deque\n",
    "from collections import Counter\n",
    "import imutils\n",
    "import uuid\n",
    "from FaceDetectionModule import Face_Detector\n",
    "\n",
    "import glob\n",
    "import imutils\n",
    "\n",
    "from imgaug import augmenters as iaa\n",
    "ia.seed(4)\n",
    "\n",
    "rotate = iaa.Affine(rotate=(-50, 50))\n",
    "    \n",
    "maxQueueLen = 20\n",
    "developer_mode = True\n",
    "device = \"CPU\"\n",
    "cpu_extension_path = \"cpu_extension_avx2.dll\"\n",
    "detect_thresh = 0.7\n",
    "min_rect_area = 40000\n",
    "turn_angle_thresh = 15\n",
    "\n",
    "\n",
    "model_xml = r\"Models/openvino/face-detection/FP32/face-detection-retail-0004.xml\"\n",
    "model_bin = r\"Models/openvino/face-detection/FP32/face-detection-retail-0004.bin\"\n",
    "\n",
    "plugin = Face_Detector.init_plugin(device,cpu_extension_path)\n",
    "faceDetector = Face_Detector()\n",
    "faceDetector.load_net(model_xml,model_bin,plugin)\n",
    "\n",
    "input_dir = r\"C:\\Users\\ADNEC- VW 3\\Notebooks\\Mask_Detection\\dataset_raw\\new\\raw\\office\"\n",
    "\n",
    "mask_dir = r\"C:\\Users\\ADNEC- VW 3\\Notebooks\\Mask_Detection\\dataset_raw\\new\\raw\\office\\mask\"\n",
    "nomask_dir = r\"C:\\Users\\ADNEC- VW 3\\Notebooks\\Mask_Detection\\dataset_raw\\new\\raw\\office\\no_mask\"\n",
    "import uuid\n",
    "\n",
    "\n",
    "\n",
    "seq = iaa.Sequential([\n",
    "    iaa.Affine(rotate=(-35, 35)),\n",
    "    iaa.AdditiveGaussianNoise(scale=(0, 60)),\n",
    "    iaa.Crop(percent=(0, 0.2))\n",
    "])"
   ]
  },
  {
   "cell_type": "code",
   "execution_count": 12,
   "metadata": {},
   "outputs": [
    {
     "ename": "error",
     "evalue": "OpenCV(4.2.0) C:\\projects\\opencv-python\\opencv\\modules\\highgui\\src\\window.cpp:376: error: (-215:Assertion failed) size.width>0 && size.height>0 in function 'cv::imshow'\n",
     "output_type": "error",
     "traceback": [
      "\u001b[1;31m---------------------------------------------------------------------------\u001b[0m",
      "\u001b[1;31merror\u001b[0m                                     Traceback (most recent call last)",
      "\u001b[1;32m<ipython-input-12-ef7a0720bf3b>\u001b[0m in \u001b[0;36m<module>\u001b[1;34m\u001b[0m\n\u001b[0;32m      5\u001b[0m     \u001b[1;32mfor\u001b[0m \u001b[1;33m(\u001b[0m\u001b[0mx_min\u001b[0m\u001b[1;33m,\u001b[0m\u001b[0my_min\u001b[0m\u001b[1;33m,\u001b[0m\u001b[0mx_max\u001b[0m\u001b[1;33m,\u001b[0m\u001b[0my_max\u001b[0m\u001b[1;33m)\u001b[0m \u001b[1;32min\u001b[0m \u001b[0mrects\u001b[0m\u001b[1;33m:\u001b[0m\u001b[1;33m\u001b[0m\u001b[1;33m\u001b[0m\u001b[0m\n\u001b[0;32m      6\u001b[0m         \u001b[0mface\u001b[0m \u001b[1;33m=\u001b[0m \u001b[0mimg\u001b[0m\u001b[1;33m[\u001b[0m\u001b[0my_min\u001b[0m\u001b[1;33m:\u001b[0m\u001b[0my_max\u001b[0m \u001b[1;33m,\u001b[0m\u001b[0mx_min\u001b[0m \u001b[1;33m:\u001b[0m\u001b[0mx_max\u001b[0m \u001b[1;33m]\u001b[0m\u001b[1;33m\u001b[0m\u001b[1;33m\u001b[0m\u001b[0m\n\u001b[1;32m----> 7\u001b[1;33m         \u001b[0mcv2\u001b[0m\u001b[1;33m.\u001b[0m\u001b[0mimshow\u001b[0m\u001b[1;33m(\u001b[0m\u001b[1;34m\"Image\"\u001b[0m\u001b[1;33m,\u001b[0m\u001b[0mface\u001b[0m\u001b[1;33m)\u001b[0m\u001b[1;33m\u001b[0m\u001b[1;33m\u001b[0m\u001b[0m\n\u001b[0m\u001b[0;32m      8\u001b[0m         \u001b[0mkey\u001b[0m \u001b[1;33m=\u001b[0m \u001b[0mcv2\u001b[0m\u001b[1;33m.\u001b[0m\u001b[0mwaitKey\u001b[0m\u001b[1;33m(\u001b[0m\u001b[1;36m0\u001b[0m\u001b[1;33m)\u001b[0m\u001b[1;33m\u001b[0m\u001b[1;33m\u001b[0m\u001b[0m\n\u001b[0;32m      9\u001b[0m         \u001b[0mcv2\u001b[0m\u001b[1;33m.\u001b[0m\u001b[0mdestroyAllWindows\u001b[0m\u001b[1;33m(\u001b[0m\u001b[1;33m)\u001b[0m\u001b[1;33m\u001b[0m\u001b[1;33m\u001b[0m\u001b[0m\n",
      "\u001b[1;31merror\u001b[0m: OpenCV(4.2.0) C:\\projects\\opencv-python\\opencv\\modules\\highgui\\src\\window.cpp:376: error: (-215:Assertion failed) size.width>0 && size.height>0 in function 'cv::imshow'\n"
     ]
    }
   ],
   "source": [
    "for i,img_path in enumerate(glob.glob(input_dir + \"/*.jpg\" )):\n",
    "    img = cv2.imread(img_path)\n",
    "    rects,_ = faceDetector.detectFaces(img)\n",
    "    \n",
    "    for (x_min,y_min,x_max,y_max) in rects:\n",
    "        try:\n",
    "            face = img[y_min:y_max ,x_min :x_max ]\n",
    "            cv2.imshow(\"Image\",face)\n",
    "            key = cv2.waitKey(0)\n",
    "            cv2.destroyAllWindows()\n",
    "            orig = face.copy()\n",
    "\n",
    "            if key == ord(\"m\"):\n",
    "                cv2.imwrite(mask_dir + \"/\" + str(uuid.uuid4()) + \".jpg\",face)\n",
    "\n",
    "                for j in range (0,3):\n",
    "                    face = seq(image = face)\n",
    "                    cv2.imwrite(mask_dir + \"/\" + str(uuid.uuid4()) + \".jpg\",face)\n",
    "\n",
    "            elif key == ord(\"n\"):\n",
    "                cv2.imwrite(nomask_dir + \"/\" + str(uuid.uuid4()) + \".jpg\",face) \n",
    "\n",
    "                for j in range (0,3):\n",
    "                    face = seq(image = face)\n",
    "                    cv2.imwrite(nomask_dir + \"/\" + str(uuid.uuid4()) + \".jpg\",face)\n",
    "\n",
    "            else:\n",
    "                continue\n",
    "        except:\n",
    "            continue\n",
    "        "
   ]
  }
 ],
 "metadata": {
  "kernelspec": {
   "display_name": "Python 3",
   "language": "python",
   "name": "python3"
  },
  "language_info": {
   "codemirror_mode": {
    "name": "ipython",
    "version": 3
   },
   "file_extension": ".py",
   "mimetype": "text/x-python",
   "name": "python",
   "nbconvert_exporter": "python",
   "pygments_lexer": "ipython3",
   "version": "3.7.1"
  }
 },
 "nbformat": 4,
 "nbformat_minor": 2
}

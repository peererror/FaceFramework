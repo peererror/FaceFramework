{
 "cells": [
  {
   "cell_type": "code",
   "execution_count": 4,
   "metadata": {},
   "outputs": [],
   "source": [
    "import cv2\n",
    "import numpy as np"
   ]
  },
  {
   "cell_type": "code",
   "execution_count": 12,
   "metadata": {},
   "outputs": [],
   "source": [
    "class FaceDetector:\n",
    "    def __init__(self, faceCascadePath):\n",
    "        self.faceCascade = cv2.CascadeClassifier(faceCascadePath)\n",
    "\n",
    "    def detect(self, image, scaleFactor = 1.1, minNeighbors = 5,minSize = (30, 30)):\n",
    "        rects = self.faceCascade.detectMultiScale(image,scaleFactor = scaleFactor,\n",
    "                                              minNeighbors = minNeighbors, minSize = minSize,flags = cv2.CASCADE_SCALE_IMAGE)\n",
    "\n",
    "        return rects"
   ]
  },
  {
   "cell_type": "code",
   "execution_count": 13,
   "metadata": {},
   "outputs": [],
   "source": [
    "# img = cv2.imread(r\"C:\\Users\\ADNEC- VW 3\\Pictures\\b81b71074d3d429acf73816044800f46.jfif\")\n",
    "# img = cv2.cvtColor(img,cv2.COLOR_BGR2GRAY)"
   ]
  },
  {
   "cell_type": "code",
   "execution_count": 28,
   "metadata": {},
   "outputs": [],
   "source": [
    "# img = cv2.imread(r\"C:\\Users\\ADNEC- VW 3\\Pictures\\b81b71074d3d429acf73816044800f46.jfif\")\n",
    "# img = cv2.cvtColor(img,cv2.COLOR_BGR2GRAY)\n",
    "\n",
    "# classifier_path = r\"C:\\ProgramData\\Anaconda3\\Lib\\site-packages\\cv2\\data\\haarcascade_frontalface_default.xml\"\n",
    "# detector = FaceDetector(classifier_path)\n",
    "# rects = detector.detect(img,scaleFactor = 1.5, minNeighbors = 5,minSize = (30, 30))\n",
    "# for (x,y,w,h) in rects:\n",
    "#     cv2.rectangle(img,(x,y),(x+w,y+h),(0,255,0),2)\n",
    "#     break\n",
    "    \n",
    "    \n",
    "# cv2.imshow(\"Image\",img)\n",
    "# cv2.waitKey(0)\n",
    "# cv2.destroyAllWindows()"
   ]
  },
  {
   "cell_type": "code",
   "execution_count": null,
   "metadata": {},
   "outputs": [],
   "source": [
    "classifier_path = r\"C:\\ProgramData\\Anaconda3\\Lib\\site-packages\\cv2\\data\\haarcascade_frontalface_default.xml\"\n",
    "detector = FaceDetector(classifier_path)"
   ]
  },
  {
   "cell_type": "code",
   "execution_count": 34,
   "metadata": {},
   "outputs": [],
   "source": [
    "cap = cv2.VideoCapture(0)\n",
    "\n",
    "while(True):\n",
    "    ret, frame = cap.read()\n",
    "    if ret == False:\n",
    "        print(\"Unable to capture face\")\n",
    "        \n",
    "    gray = cv2.cvtColor(frame, cv2.COLOR_BGR2GRAY)\n",
    "    rects = detector.detect(gray,scaleFactor = 1.5, minNeighbors = 5,minSize = (30, 30))\n",
    "    \n",
    "    for (x,y,w,h) in rects:\n",
    "        cv2.rectangle(gray,(x,y),(x+w,y+h),(0,255,0),2)\n",
    "        break\n",
    "    \n",
    "    cv2.imshow('frame',gray)\n",
    "    if cv2.waitKey(1) & 0xFF == ord('q'):\n",
    "        break\n",
    "\n",
    "# When everything done, release the capture\n",
    "cap.release()\n",
    "cv2.destroyAllWindows()"
   ]
  }
 ],
 "metadata": {
  "kernelspec": {
   "display_name": "Python 3",
   "language": "python",
   "name": "python3"
  },
  "language_info": {
   "codemirror_mode": {
    "name": "ipython",
    "version": 3
   },
   "file_extension": ".py",
   "mimetype": "text/x-python",
   "name": "python",
   "nbconvert_exporter": "python",
   "pygments_lexer": "ipython3",
   "version": "3.7.1"
  }
 },
 "nbformat": 4,
 "nbformat_minor": 2
}

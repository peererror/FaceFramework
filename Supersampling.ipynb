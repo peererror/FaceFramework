{
 "cells": [
  {
   "cell_type": "code",
   "execution_count": 1,
   "metadata": {},
   "outputs": [
    {
     "name": "stdout",
     "output_type": "stream",
     "text": [
      "Imported Python modules.\n"
     ]
    }
   ],
   "source": [
    "import os\n",
    "import cv2\n",
    "import time\n",
    "import pandas as pd\n",
    "import numpy as np\n",
    "import glob\n",
    "from os import listdir\n",
    "import shutil\n",
    "from os.path import isfile, join\n",
    "from matplotlib import pyplot as plt\n",
    "from SupersamplingModule import Supersampler\n",
    "import imutils\n",
    "from imutils.video import VideoStream"
   ]
  },
  {
   "cell_type": "code",
   "execution_count": 2,
   "metadata": {},
   "outputs": [],
   "source": [
    "device = \"CPU\"\n",
    "cpu_extension_path = \"cpu_extension_avx2.dll\""
   ]
  },
  {
   "cell_type": "code",
   "execution_count": 3,
   "metadata": {},
   "outputs": [
    {
     "name": "stdout",
     "output_type": "stream",
     "text": [
      "INFO: All network layers are supported.\n",
      "Input Shape: [1, 3, 360, 640]\n",
      "Output Shape: [1, 3, 1080, 1920]\n",
      "{'90': <openvino.inference_engine.ie_api.OutputInfo object at 0x000001DC345B8300>}\n"
     ]
    }
   ],
   "source": [
    "model_xml = r\"Models\\openvino\\suprersampling\\FP16\\single-image-super-resolution-1033.xml\"\n",
    "model_bin = r\"Models\\openvino\\suprersampling\\FP16\\single-image-super-resolution-1033.bin\"\n",
    "\n",
    "plugin = Supersampler.init_plugin(device)\n",
    "\n",
    "supersampler = Supersampler()\n",
    "\n",
    "supersampler.load_net(model_xml,model_bin,plugin)"
   ]
  },
  {
   "cell_type": "code",
   "execution_count": 13,
   "metadata": {},
   "outputs": [],
   "source": [
    "for img_path in glob.glob(r\"Models\\openvino\\suprersampling\\images\\*.*\"):\n",
    "\n",
    "    img = cv2.imread(img_path)\n",
    "\n",
    "    n,r = supersampler.supersample(img)\n",
    "\n",
    "    res = (n.requests[0].outputs[\"90\"][0].transpose((1, 2, 0))*255).astype(\"uint8\")\n",
    "    cv2.imshow(\"BiCubic Super Sampled Output\",cv2.resize(res,(800,600)))\n",
    "    cv2.imshow(\"Resized Output\",cv2.resize(img,(800,600)))\n",
    "    cv2.waitKey(0)\n",
    "    cv2.destroyAllWindows()"
   ]
  }
 ],
 "metadata": {
  "kernelspec": {
   "display_name": "Python 3",
   "language": "python",
   "name": "python3"
  },
  "language_info": {
   "codemirror_mode": {
    "name": "ipython",
    "version": 3
   },
   "file_extension": ".py",
   "mimetype": "text/x-python",
   "name": "python",
   "nbconvert_exporter": "python",
   "pygments_lexer": "ipython3",
   "version": "3.7.1"
  }
 },
 "nbformat": 4,
 "nbformat_minor": 2
}
